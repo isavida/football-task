{
  "nbformat": 4,
  "nbformat_minor": 0,
  "metadata": {
    "colab": {
      "provenance": [],
      "authorship_tag": "ABX9TyN90E+xn3jJT7g81UgSbJQg",
      "include_colab_link": true
    },
    "kernelspec": {
      "name": "python3",
      "display_name": "Python 3"
    },
    "language_info": {
      "name": "python"
    }
  },
  "cells": [
    {
      "cell_type": "markdown",
      "metadata": {
        "id": "view-in-github",
        "colab_type": "text"
      },
      "source": [
        "<a href=\"https://colab.research.google.com/github/isavida/football-task/blob/team-classification/main.ipynb\" target=\"_parent\"><img src=\"https://colab.research.google.com/assets/colab-badge.svg\" alt=\"Open In Colab\"/></a>"
      ]
    },
    {
      "cell_type": "code",
      "source": [
        "!pip install ultralytics -q\n",
        "!pip install easyocr -q"
      ],
      "metadata": {
        "id": "keemGl--AKn3",
        "colab": {
          "base_uri": "https://localhost:8080/"
        },
        "outputId": "2a2ff800-ed68-4b48-984b-80560f70da4c"
      },
      "execution_count": 2,
      "outputs": [
        {
          "output_type": "stream",
          "name": "stdout",
          "text": [
            "\u001b[2K     \u001b[90m━━━━━━━━━━━━━━━━━━━━━━━━━━━━━━━━━━━━━━━━\u001b[0m \u001b[32m717.0/717.0 kB\u001b[0m \u001b[31m4.5 MB/s\u001b[0m eta \u001b[36m0:00:00\u001b[0m\n",
            "\u001b[2K     \u001b[90m━━━━━━━━━━━━━━━━━━━━━━━━━━━━━━━━━━━━━━━━\u001b[0m \u001b[32m2.9/2.9 MB\u001b[0m \u001b[31m12.5 MB/s\u001b[0m eta \u001b[36m0:00:00\u001b[0m\n",
            "\u001b[2K     \u001b[90m━━━━━━━━━━━━━━━━━━━━━━━━━━━━━━━━━━━━━━━━\u001b[0m \u001b[32m908.3/908.3 kB\u001b[0m \u001b[31m50.8 MB/s\u001b[0m eta \u001b[36m0:00:00\u001b[0m\n",
            "\u001b[2K     \u001b[90m━━━━━━━━━━━━━━━━━━━━━━━━━━━━━━━━━━━━━━━━\u001b[0m \u001b[32m307.2/307.2 kB\u001b[0m \u001b[31m29.1 MB/s\u001b[0m eta \u001b[36m0:00:00\u001b[0m\n",
            "\u001b[?25h"
          ]
        }
      ]
    },
    {
      "cell_type": "code",
      "source": [
        "import colorsys\n",
        "import copy\n",
        "import cv2\n",
        "import easyocr\n",
        "import imutils\n",
        "import matplotlib.pyplot as plt\n",
        "import numpy as np\n",
        "import os\n",
        "import pandas as pd\n",
        "\n",
        "from google.colab.patches import cv2_imshow\n",
        "from scipy.spatial.distance import cdist\n",
        "from sklearn.cluster import KMeans\n",
        "from ultralytics import YOLO"
      ],
      "metadata": {
        "id": "bVbutFMSAMle"
      },
      "execution_count": 91,
      "outputs": []
    },
    {
      "cell_type": "markdown",
      "source": [
        "#Setup"
      ],
      "metadata": {
        "id": "dIh51UQTLLUt"
      }
    },
    {
      "cell_type": "code",
      "source": [
        "def git_setup(token):\n",
        "  os.system(f\"git config --global user.email 'isabel.vidaurre@hotmail.com'\")\n",
        "  os.system(f\"git config --global user.name 'isavida'\")\n",
        "  os.system(f\"git clone https://{token}@github.com/isavida/football-task.git\")\n",
        "  os.chdir(\"football-task\")"
      ],
      "metadata": {
        "id": "986DSJyLhX2o"
      },
      "execution_count": 4,
      "outputs": []
    },
    {
      "cell_type": "code",
      "source": [
        "git_setup('123123')"
      ],
      "metadata": {
        "id": "RXhyzdLKnHdg"
      },
      "execution_count": 5,
      "outputs": []
    },
    {
      "cell_type": "markdown",
      "source": [
        "# Introduction\n",
        "The task consists of taking as input a video footage and output:\n",
        "\n",
        "\n",
        "*   A JSONL file that contains a row for each 5th frame with the number of players from home-team and away-team, numbers of referees and position of the ball.\n",
        "*   A video with the team players with the bounding boxes of detections\n",
        "classified according to their team and the annotation of the ball when detected\n",
        "\n",
        "\n",
        "It is decided to do the player detection task first, as the data for the jsonl file can be obtained from these detections.\n",
        "\n"
      ],
      "metadata": {
        "id": "fyv_IupWLbBQ"
      }
    },
    {
      "cell_type": "markdown",
      "source": [
        "#Players detection"
      ],
      "metadata": {
        "id": "jA1cwRbrI5sI"
      }
    },
    {
      "cell_type": "code",
      "source": [
        "def inference_video(model, filename):\n",
        "    results = model.track(source=f\"data/{filename}.mp4\", save = True, name=f\"{filename}_result\", conf=0.1)\n",
        "    return results"
      ],
      "metadata": {
        "id": "MJcdW_crAotO"
      },
      "execution_count": null,
      "outputs": []
    },
    {
      "cell_type": "code",
      "source": [
        "model = YOLO('yolov8n.pt')\n",
        "video_clip = \"clip_1\"\n",
        "results = inference_video(model, video_clip)"
      ],
      "metadata": {
        "id": "lPfaE9q9AsSf"
      },
      "execution_count": null,
      "outputs": []
    },
    {
      "cell_type": "markdown",
      "source": [
        "##Team classification\n",
        "To correctly classify each team, we should find the team colors."
      ],
      "metadata": {
        "id": "5kM3EsqlP7gg"
      }
    },
    {
      "cell_type": "markdown",
      "source": [
        "### K-means approach\n",
        "We can delete all the colors that aren't part of the bounding boxes and apply a filter to remove the green color (so as not to consider the grass in the field), then we can apply the k-means algorithm to obtain the most relevant colors."
      ],
      "metadata": {
        "id": "ZTnRIr2hQITe"
      }
    },
    {
      "cell_type": "code",
      "source": [
        "def get_upper_left_corner_location(coordinates):\n",
        "  ''' YOLO x-y coordinates refers to the center of the detected image.\n",
        "  This functions gets the upper-left corner as a util in order to create the mask of the bounding boxes '''\n",
        "  center_x, center_y, w, h = coordinates\n",
        "  x= int(center_x - w/2)\n",
        "  y= int(center_y - h/2)\n",
        "\n",
        "  return x, y\n"
      ],
      "metadata": {
        "id": "ziZxKn2HVhta"
      },
      "execution_count": null,
      "outputs": []
    },
    {
      "cell_type": "code",
      "source": [
        "def get_persons_images(orig_img, bounding_boxes):\n",
        "  persons=[]\n",
        "  ## remove green\n",
        "  hsv = cv2.cvtColor(orig_img, cv2.COLOR_BGR2HSV)\n",
        "  green_mask = cv2.inRange(hsv, (35, 35, 35), (70, 255,255))\n",
        "  inverted_green_mask= cv2.bitwise_not(green_mask)\n",
        "  processed_img = cv2.bitwise_and(orig_img,orig_img, mask=inverted_green_mask)\n",
        "\n",
        "  for box in bounding_boxes:\n",
        "    x, y, w, h=map(int, box.xywh.tolist()[0])\n",
        "    x,y = get_upper_left_corner_location([int(x),y,w,h])\n",
        "\n",
        "    if box.cls==0: #cls 0 corresponds to person\n",
        "      person=processed_img[y:y+h,x:x+w]\n",
        "      persons.append(person)\n",
        "\n",
        "  return persons"
      ],
      "metadata": {
        "id": "7FFNa-IFvDmx"
      },
      "execution_count": null,
      "outputs": []
    },
    {
      "cell_type": "code",
      "source": [
        "#Obtaining the frame with more person detections\n",
        "max=0\n",
        "max_id=0\n",
        "for i,r in enumerate(results):\n",
        "  length = len(r.boxes.cls==0)\n",
        "  if length>max:\n",
        "    max=length\n",
        "    max_id=i"
      ],
      "metadata": {
        "id": "Sqrn1uHg2KKe"
      },
      "execution_count": null,
      "outputs": []
    },
    {
      "cell_type": "code",
      "source": [
        "persons=get_persons_images(results[max_id].orig_img, results[max_id].boxes)\n",
        "person=persons[0]\n",
        "cv2_imshow(person)"
      ],
      "metadata": {
        "colab": {
          "base_uri": "https://localhost:8080/",
          "height": 113
        },
        "id": "z9_L7rpYw5jf",
        "outputId": "9081ccc8-e683-404f-8685-8b6a61442193"
      },
      "execution_count": null,
      "outputs": [
        {
          "output_type": "display_data",
          "data": {
            "text/plain": [
              "<PIL.Image.Image image mode=RGB size=50x96>"
            ],
            "image/png": "[encoded data removed]"
          },
          "metadata": {}
        }
      ]
    },
    {
      "cell_type": "code",
      "source": [
        "persons_wo_black =[]\n",
        "for person in persons:\n",
        "  person_wo_black = person[person.sum(axis=2)!=0].reshape((-1,3)) #convert img into list and removing black pixels\n",
        "  persons_wo_black.append(person_wo_black)"
      ],
      "metadata": {
        "id": "uZIJqeXGqdf3"
      },
      "execution_count": null,
      "outputs": []
    },
    {
      "cell_type": "code",
      "source": [
        "mean_colors = []\n",
        "for person in persons_wo_black:\n",
        "    mean_color = np.mean(person, axis=0)\n",
        "    mean_colors.append(mean_color)"
      ],
      "metadata": {
        "id": "tJ4ANPz0xnr3"
      },
      "execution_count": null,
      "outputs": []
    },
    {
      "cell_type": "code",
      "source": [
        "def get_cluster(data, k=3):\n",
        "    criteria = (cv2.TERM_CRITERIA_EPS + cv2.TERM_CRITERIA_MAX_ITER, 300, 0.0001)\n",
        "    flags = cv2.KMEANS_RANDOM_CENTERS\n",
        "\n",
        "    # Apply KMeans clustering\n",
        "    _,labels, centers = cv2.kmeans(np.float32(data), k, None, criteria, 10, flags)\n",
        "\n",
        "    # Convert the pixel values to integer\n",
        "    return centers,labels\n",
        "\n",
        "def display_dominant_colors(dominant_colors):\n",
        "    # Create a blank white image\n",
        "    bar = np.zeros((50, 300, 3), dtype=np.uint8)\n",
        "    startX = 0\n",
        "\n",
        "    # For each dominant color, draw a rectangle on the blank image\n",
        "    for color in dominant_colors:\n",
        "        endX = startX + (300 // len(dominant_colors))\n",
        "        cv2.rectangle(bar, (int(startX), 0), (int(endX), 50), color.astype(int).tolist(), -1)\n",
        "        startX = endX\n",
        "\n",
        "    # Display the image\n",
        "    cv2_imshow(bar)\n",
        "    cv2.waitKey(0)\n",
        "    cv2.destroyAllWindows()\n"
      ],
      "metadata": {
        "id": "F5Rl5HlxquUG"
      },
      "execution_count": 6,
      "outputs": []
    },
    {
      "cell_type": "markdown",
      "source": [
        "Dominant colors for all the person pixels"
      ],
      "metadata": {
        "id": "I-00otPTO_Tj"
      }
    },
    {
      "cell_type": "code",
      "source": [
        "num_colors = 4\n",
        "dominant_colors = get_dominant_colors(pixels=np.concatenate(persons_wo_black), k=num_colors)\n",
        "\n",
        "display_dominant_colors(dominant_colors)"
      ],
      "metadata": {
        "colab": {
          "base_uri": "https://localhost:8080/",
          "height": 122
        },
        "id": "Zr4JU9IrqxDf",
        "outputId": "4b91d44c-c63e-4c32-86b8-9454bad158b8"
      },
      "execution_count": null,
      "outputs": [
        {
          "output_type": "stream",
          "name": "stderr",
          "text": [
            "/usr/local/lib/python3.10/dist-packages/sklearn/cluster/_kmeans.py:870: FutureWarning: The default value of `n_init` will change from 10 to 'auto' in 1.4. Set the value of `n_init` explicitly to suppress the warning\n",
            "  warnings.warn(\n"
          ]
        },
        {
          "output_type": "display_data",
          "data": {
            "text/plain": [
              "<PIL.Image.Image image mode=RGB size=300x50>"
            ],
            "image/png": "[encoded data removed]"
          },
          "metadata": {}
        }
      ]
    },
    {
      "cell_type": "markdown",
      "source": [
        "Dominant colors for the avg of colors of each person bounding boxes"
      ],
      "metadata": {
        "id": "piCIssbZPGrS"
      }
    },
    {
      "cell_type": "code",
      "source": [
        "num_colors = 4\n",
        "dominant_colors = get_dominant_colors(pixels=mean_colors, k=num_colors)\n",
        "\n",
        "display_dominant_colors(dominant_colors)"
      ],
      "metadata": {
        "colab": {
          "base_uri": "https://localhost:8080/",
          "height": 122
        },
        "id": "2kDuNfi1PRmh",
        "outputId": "1ed375b7-84ef-4d44-b076-417d4ce99114"
      },
      "execution_count": null,
      "outputs": [
        {
          "output_type": "stream",
          "name": "stderr",
          "text": [
            "/usr/local/lib/python3.10/dist-packages/sklearn/cluster/_kmeans.py:870: FutureWarning: The default value of `n_init` will change from 10 to 'auto' in 1.4. Set the value of `n_init` explicitly to suppress the warning\n",
            "  warnings.warn(\n"
          ]
        },
        {
          "output_type": "display_data",
          "data": {
            "text/plain": [
              "<PIL.Image.Image image mode=RGB size=300x50>"
            ],
            "image/png": "[encoded data removed]"
          },
          "metadata": {}
        }
      ]
    },
    {
      "cell_type": "markdown",
      "source": [
        "### Scoreboard approach\n"
      ],
      "metadata": {
        "id": "jf_thpL1Siy5"
      }
    },
    {
      "cell_type": "markdown",
      "source": [
        "Considering that in the task we should distinguish between the home and the away team, another approach could be to identify the colors and the affiliation to the home or the away team by looking at the scoreboard."
      ],
      "metadata": {
        "id": "c2SaueJ3Szkr"
      }
    },
    {
      "cell_type": "code",
      "source": [
        "def get_static_pixels_from_video(filepath, n_samples=10, std_ratio = 0.04, crop_x_ratio = 0.4, crop_y_ratio = 0.2):\n",
        "    cap = cv2.VideoCapture(filepath)\n",
        "\n",
        "    # Randomly select n sample frames\n",
        "    sample_frames_index = [np.random.randint(0, cap.get(cv2.CAP_PROP_FRAME_COUNT)) for i in range(n_samples)]\n",
        "\n",
        "    # Store selected frames in an array\n",
        "    sample_frames = []\n",
        "    for sfi in sample_frames_index:\n",
        "        cap.set(cv2.CAP_PROP_POS_FRAMES, sfi)\n",
        "        _, frame = cap.read()\n",
        "        if frame is not None:\n",
        "            sample_frames.append(frame[0:int(crop_y_ratio * frame.shape[0]),\n",
        "                                0:int(crop_x_ratio * frame.shape[1])])\n",
        "\n",
        "    # std will help to check static pixels\n",
        "    # median obtains a precise scoreboard in case it's damaged on any frame\n",
        "    stdFrames = np.std(sample_frames, axis=0).astype(dtype=np.uint8)\n",
        "    medianFrames = np.median(sample_frames, axis=0).astype(dtype=np.uint8)\n",
        "\n",
        "    # get mean over color channels\n",
        "    stdFrameMean = np.mean(stdFrames/255, axis=2)\n",
        "    stdFrameMean3D = np.repeat(stdFrameMean[:,:,np.newaxis], 3, axis=2)\n",
        "\n",
        "    # filter static pixels\n",
        "    background = np.where(stdFrameMean3D < std_ratio, medianFrames, 0)\n",
        "\n",
        "    return background\n",
        "\n",
        "def xywh_from_points_with_scale(points_2d, scale=1.2):\n",
        "    ''' Compute center_x, center_y, width and weight given N 2d points '''\n",
        "\n",
        "    x_min = np.min(points_2d[:,0], axis=0)\n",
        "    x_max = np.max(points_2d[:,0], axis=0)\n",
        "    y_min = np.min(points_2d[:,1], axis=0)\n",
        "    y_max = np.max(points_2d[:,1], axis=0)\n",
        "\n",
        "    return [(x_max+x_min)/2,\n",
        "            (y_max+y_min)/2,\n",
        "            (x_max-x_min) * scale,\n",
        "            (y_max-y_min) * scale]\n",
        "\n",
        "def crop_image_given_xywh(image, xywh):\n",
        "    x_min = int(xywh[0] - xywh[2]/2)\n",
        "    x_max = int(xywh[0] + xywh[2]/2)\n",
        "    y_min = int(xywh[1] - xywh[3]/2)\n",
        "    y_max = int(xywh[1] + xywh[3]/2)\n",
        "\n",
        "    return image[y_min:y_max, x_min:x_max]\n",
        "\n",
        "def detect_team_scoreboard_and_crop_image(background):\n",
        "    # read image\n",
        "    img = copy.deepcopy(background)\n",
        "\n",
        "    # instance text detector\n",
        "    reader = easyocr.Reader(['en'], gpu=False)\n",
        "\n",
        "    # detect text on image\n",
        "    text_ = reader.readtext(img)\n",
        "\n",
        "    threshold = 0.25\n",
        "    initials = []\n",
        "\n",
        "    # draw bbox and text of team initials\n",
        "    for t_, t in enumerate(text_):\n",
        "        bbox, text, score = t\n",
        "\n",
        "        if score > threshold and len(text) == 3:\n",
        "            #cv2.rectangle(img, bbox[0], bbox[2], (0, 255, 0), 5)\n",
        "            #cv2.putText(img, text, bbox[0], cv2.FONT_HERSHEY_COMPLEX, 0.65, (255, 0, 0), 2)\n",
        "\n",
        "            initials.append(bbox)\n",
        "\n",
        "    initials_np = np.array(initials)\n",
        "    initials_np = initials_np.reshape(initials_np.shape[0] * initials_np.shape[1], initials_np.shape[2])\n",
        "\n",
        "    xywh = xywh_from_points_with_scale(initials_np)\n",
        "    crop_img = crop_image_given_xywh(img, xywh)\n",
        "\n",
        "    return crop_img\n"
      ],
      "metadata": {
        "id": "nY1Wk5SWwvYG"
      },
      "execution_count": 148,
      "outputs": []
    },
    {
      "cell_type": "code",
      "source": [
        "background = get_static_pixels_from_video('data/clip_3.mp4')\n",
        "scoreboard = detect_team_scoreboard_and_crop_image(background)\n",
        "cv2_imshow(scoreboard)"
      ],
      "metadata": {
        "id": "SOkLk_N6w8-g",
        "colab": {
          "base_uri": "https://localhost:8080/",
          "height": 85
        },
        "outputId": "b7a073b3-fd27-4958-9b63-fbe0a123d21e"
      },
      "execution_count": 211,
      "outputs": [
        {
          "output_type": "stream",
          "name": "stderr",
          "text": [
            "WARNING:easyocr.easyocr:Using CPU. Note: This module is much faster with a GPU.\n"
          ]
        },
        {
          "output_type": "display_data",
          "data": {
            "text/plain": [
              "<PIL.Image.Image image mode=RGB size=432x51>"
            ],
            "image/png": "[encoded data removed]"
          },
          "metadata": {}
        }
      ]
    },
    {
      "cell_type": "code",
      "source": [
        "img_width = scoreboard.shape[1]\n",
        "roi1=scoreboard[:,:img_width//2,:]\n",
        "roi2=scoreboard[:,img_width//2:,:]\n",
        "cv2_imshow(roi1)\n",
        "cv2_imshow(roi2)\n"
      ],
      "metadata": {
        "colab": {
          "base_uri": "https://localhost:8080/",
          "height": 119
        },
        "id": "uxv0yEnsvwVa",
        "outputId": "a050fe56-d9e9-4180-9673-79c7a70a5516"
      },
      "execution_count": 212,
      "outputs": [
        {
          "output_type": "display_data",
          "data": {
            "text/plain": [
              "<PIL.Image.Image image mode=RGB size=216x51>"
            ],
            "image/png": "[encoded data removed]"
          },
          "metadata": {}
        },
        {
          "output_type": "display_data",
          "data": {
            "text/plain": [
              "<PIL.Image.Image image mode=RGB size=216x51>"
            ],
            "image/png": "[encoded data removed]"
          },
          "metadata": {}
        }
      ]
    },
    {
      "cell_type": "code",
      "source": [
        "def quantize_roi(roi, div=32):\n",
        "  return roi// div * div + div // 2"
      ],
      "metadata": {
        "id": "GT-7edq4CJeh"
      },
      "execution_count": 190,
      "outputs": []
    },
    {
      "cell_type": "code",
      "source": [
        "def get_color_frequencies_hues(img_bgr):\n",
        "  pixels = np.float32(img_bgr.reshape(-1, 3))\n",
        "\n",
        "  # Remove duplicates to obtain unique colors\n",
        "  unique_pixels, counts = np.unique(pixels, axis=0, return_counts=True)\n",
        "  hue_values = []\n",
        "  for color in unique_pixels:\n",
        "    h, l, s= colorsys.rgb_to_hls(color[2], color[1], color[0]) #change indices because bgr vs rgb convention\n",
        "    h = int(round(h*359))\n",
        "    hue_values.append(h)\n",
        "  color_dict = {'color': [tuple(color) for color in unique_pixels],\n",
        "                'frequency': counts,\n",
        "                'hue': hue_values}\n",
        "  color_frequency_hue = pd.DataFrame(color_dict)\n",
        "  return color_frequency_hue\n",
        "\n",
        "def get_most_dominant_hue_colors(df):\n",
        "  color_frequency_hue_sorted = df.sort_values(by='frequency', ascending=False)\n",
        "\n",
        "  color_frequency_hue_unique = color_frequency_hue_sorted.groupby('hue').first().reset_index()\n",
        "  return color_frequency_hue_unique\n",
        "\n",
        "# TODO: a more robust solution could be not to remove any item,\n",
        "# but to compare the frequencies of the two lists and keep the hue\n",
        "# with the most difference in frequencies between the two df\n",
        "\n",
        "def length_matching(df1,df2):\n",
        "  # Compare lengths\n",
        "    len_df1 = len(df1)\n",
        "    len_df2 = len(df2)\n",
        "\n",
        "    # Identify df with longer length and maintain only more frequents items\n",
        "    if len_df1 < len_df2:\n",
        "        df2_sorted = df2.sort_values(by='frequency', ascending=False)\n",
        "        df2 = df2_sorted[:len_df1]\n",
        "    elif len_df2 < len_df1:\n",
        "        df1_sorted = df1.sort_values(by='frequency', ascending=False)\n",
        "        df1 = df1_sorted[:len_df2]\n",
        "\n",
        "    return df1, df2\n",
        "\n",
        "def get_non_coincident_hue_valor(df1, df2):\n",
        "\n",
        "    primer_valor_df1 = None\n",
        "    primer_valor_df2 = None\n",
        "    df1_sorted = df1.sort_values(by='frequency', ascending=False)\n",
        "    df2_sorted = df2.sort_values(by='frequency', ascending=False)\n",
        "\n",
        "    # Iterate over dataframes and look for hue coincidences\n",
        "    for index, row in df1_sorted.iterrows():\n",
        "        hue_df1 = row['hue']\n",
        "        if hue_df1 not in df2['hue'].values:\n",
        "            primer_valor_df1 = row\n",
        "            break\n",
        "\n",
        "    for index, row in df2_sorted.iterrows():\n",
        "        hue_df2 = row['hue']\n",
        "        if hue_df2 not in df1['hue'].values:\n",
        "            primer_valor_df2 = row\n",
        "            break\n",
        "\n",
        "    return primer_valor_df1, primer_valor_df2"
      ],
      "metadata": {
        "id": "c4VtFhBqf-je"
      },
      "execution_count": 201,
      "outputs": []
    },
    {
      "cell_type": "code",
      "source": [
        "div=32\n",
        "quantized_roi1 = quantize_roi(roi1, div)\n",
        "cv2_imshow(quantized_roi1)\n",
        "quantized_roi2 = quantize_roi(roi2, div)\n",
        "cv2_imshow(quantized_roi2)\n",
        "df1 = get_color_frequencies_hues(quantized_roi1, 20)\n",
        "#print(df1)\n",
        "df2 = get_color_frequencies_hues(quantized_roi2,20)\n",
        "#print(df2)\n",
        "df1 = get_most_dominant_hue_colors(df1)\n",
        "#print(df1)\n",
        "df2 = get_most_dominant_hue_colors(df2)\n",
        "#print(df2)\n",
        "df1, df2 = length_matching(df1,df2)\n",
        "\n",
        "color1, color2 = get_non_coincident_hue_valor(df1, df2)\n",
        "print(color1[\"color\"], color2[\"color\"])\n",
        "display_dominant_colors([np.array(color1[\"color\"]), np.array(color2[\"color\"])])"
      ],
      "metadata": {
        "colab": {
          "base_uri": "https://localhost:8080/",
          "height": 186
        },
        "id": "-JQNEX6SYeh-",
        "outputId": "64496974-f674-42e5-af02-e58d4449a853"
      },
      "execution_count": 213,
      "outputs": [
        {
          "output_type": "display_data",
          "data": {
            "text/plain": [
              "<PIL.Image.Image image mode=RGB size=216x51>"
            ],
            "image/png": "[encoded data removed]"
          },
          "metadata": {}
        },
        {
          "output_type": "display_data",
          "data": {
            "text/plain": [
              "<PIL.Image.Image image mode=RGB size=216x51>"
            ],
            "image/png": "[encoded data removed]"
          },
          "metadata": {}
        },
        {
          "output_type": "stream",
          "name": "stdout",
          "text": [
            "(48.0, 16.0, 176.0) (112.0, 48.0, 48.0)\n"
          ]
        },
        {
          "output_type": "display_data",
          "data": {
            "text/plain": [
              "<PIL.Image.Image image mode=RGB size=300x50>"
            ],
            "image/png": "[encoded data removed]"
          },
          "metadata": {}
        }
      ]
    }
  ]
}
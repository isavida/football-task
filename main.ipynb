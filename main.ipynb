{
  "nbformat": 4,
  "nbformat_minor": 0,
  "metadata": {
    "colab": {
      "provenance": [],
      "toc_visible": true,
      "authorship_tag": "ABX9TyNzrJmjSJ5g0/zPlNtFxYDh",
      "include_colab_link": true
    },
    "kernelspec": {
      "name": "python3",
      "display_name": "Python 3"
    },
    "language_info": {
      "name": "python"
    }
  },
  "cells": [
    {
      "cell_type": "markdown",
      "metadata": {
        "id": "view-in-github",
        "colab_type": "text"
      },
      "source": [
        "<a href=\"https://colab.research.google.com/github/isavida/football-task/blob/team-classification/main.ipynb\" target=\"_parent\"><img src=\"https://colab.research.google.com/assets/colab-badge.svg\" alt=\"Open In Colab\"/></a>"
      ]
    },
    {
      "cell_type": "code",
      "source": [
        "!pip install ultralytics -q"
      ],
      "metadata": {
        "id": "keemGl--AKn3",
        "colab": {
          "base_uri": "https://localhost:8080/"
        },
        "outputId": "81b99dde-9764-40d3-bcd9-511dd2cf8010"
      },
      "execution_count": 2,
      "outputs": [
        {
          "output_type": "stream",
          "name": "stdout",
          "text": [
            "\u001b[?25l     \u001b[90m━━━━━━━━━━━━━━━━━━━━━━━━━━━━━━━━━━━━━━━━\u001b[0m \u001b[32m0.0/716.3 kB\u001b[0m \u001b[31m?\u001b[0m eta \u001b[36m-:--:--\u001b[0m\r\u001b[2K     \u001b[91m━━━━━━━━━━━━━\u001b[0m\u001b[91m╸\u001b[0m\u001b[90m━━━━━━━━━━━━━━━━━━━━━━━━━━\u001b[0m \u001b[32m245.8/716.3 kB\u001b[0m \u001b[31m7.4 MB/s\u001b[0m eta \u001b[36m0:00:01\u001b[0m\r\u001b[2K     \u001b[91m━━━━━━━━━━━━━━━━━━━━━━━━━━━━━━━━━━━━━━━\u001b[0m\u001b[90m╺\u001b[0m \u001b[32m706.6/716.3 kB\u001b[0m \u001b[31m10.5 MB/s\u001b[0m eta \u001b[36m0:00:01\u001b[0m\r\u001b[2K     \u001b[90m━━━━━━━━━━━━━━━━━━━━━━━━━━━━━━━━━━━━━━━━\u001b[0m \u001b[32m716.3/716.3 kB\u001b[0m \u001b[31m9.3 MB/s\u001b[0m eta \u001b[36m0:00:00\u001b[0m\n",
            "\u001b[?25h"
          ]
        }
      ]
    },
    {
      "cell_type": "code",
      "source": [
        "import cv2\n",
        "import numpy as np\n",
        "import os\n",
        "\n",
        "from google.colab.patches import cv2_imshow\n",
        "from sklearn.cluster import KMeans\n",
        "from ultralytics import YOLO"
      ],
      "metadata": {
        "id": "bVbutFMSAMle"
      },
      "execution_count": 3,
      "outputs": []
    },
    {
      "cell_type": "markdown",
      "source": [
        "#Setup"
      ],
      "metadata": {
        "id": "dIh51UQTLLUt"
      }
    },
    {
      "cell_type": "code",
      "source": [
        "def git_setup(token):\n",
        "  os.system(f\"git config --global user.email 'isabel.vidaurre@hotmail.com'\")\n",
        "  os.system(f\"git config --global user.name 'isavida'\")\n",
        "  os.system(f\"git clone https://{token}@github.com/isavida/football-task.git\")\n",
        "  os.chdir(\"football-task\")"
      ],
      "metadata": {
        "id": "986DSJyLhX2o"
      },
      "execution_count": 4,
      "outputs": []
    },
    {
      "cell_type": "code",
      "source": [
        "git_setup('123123')"
      ],
      "metadata": {
        "id": "RXhyzdLKnHdg"
      },
      "execution_count": 5,
      "outputs": []
    },
    {
      "cell_type": "markdown",
      "source": [
        "# Introduction\n",
        "The task consists of taking as input a video footage and output:\n",
        "\n",
        "\n",
        "*   A JSONL file that contains a row for each 5th frame with the number of players from home-team and away-team, numbers of referees and position of the ball.\n",
        "*   A video with the team players with the bounding boxes of detections\n",
        "classified according to their team and the annotation of the ball when detected\n",
        "\n",
        "\n",
        "It is decided to do the player detection task first, as the data for the jsonl file can be obtained from these detections.\n",
        "\n"
      ],
      "metadata": {
        "id": "fyv_IupWLbBQ"
      }
    },
    {
      "cell_type": "markdown",
      "source": [
        "#Players detection"
      ],
      "metadata": {
        "id": "jA1cwRbrI5sI"
      }
    },
    {
      "cell_type": "code",
      "source": [
        "def inference_video(model, filename):\n",
        "    results = model.track(source=f\"data/{filename}.mp4\", save = True, name=f\"{filename}_result\", conf=0.1)\n",
        "    return results"
      ],
      "metadata": {
        "id": "MJcdW_crAotO"
      },
      "execution_count": 6,
      "outputs": []
    },
    {
      "cell_type": "code",
      "source": [
        "model = YOLO('yolov8n.pt')\n",
        "results = inference_video(model, \"clip_1\")"
      ],
      "metadata": {
        "id": "lPfaE9q9AsSf"
      },
      "execution_count": null,
      "outputs": []
    },
    {
      "cell_type": "markdown",
      "source": [
        "##Team classification\n",
        "To correctly classify each team, we should find the team colors."
      ],
      "metadata": {
        "id": "5kM3EsqlP7gg"
      }
    },
    {
      "cell_type": "markdown",
      "source": [
        "### K-means approach\n",
        "We can delete all the colors that aren't part of the bounding boxes and apply a filter to remove the green color (so as not to consider the grass in the field), then we can apply the k-means algorithm to obtain the most relevant colors."
      ],
      "metadata": {
        "id": "ZTnRIr2hQITe"
      }
    },
    {
      "cell_type": "code",
      "source": [
        "def get_upper_left_corner_location(coordinates):\n",
        "  ''' YOLO x-y coordinates refers to the center of the detected image.\n",
        "  This functions gets the upper-left corner as a util in order to create the mask of the bounding boxes '''\n",
        "  center_x, center_y, w, h = coordinates\n",
        "  x= int(center_x - w/2)\n",
        "  y= int(center_y - h/2)\n",
        "\n",
        "  return x, y\n"
      ],
      "metadata": {
        "id": "ziZxKn2HVhta"
      },
      "execution_count": 8,
      "outputs": []
    },
    {
      "cell_type": "code",
      "source": [
        "def get_persons_images(orig_img, bounding_boxes):\n",
        "  persons=[]\n",
        "  ## remove green\n",
        "  hsv = cv2.cvtColor(orig_img, cv2.COLOR_BGR2HSV)\n",
        "  green_mask = cv2.inRange(hsv, (35, 35, 35), (70, 255,255))\n",
        "  inverted_green_mask= cv2.bitwise_not(green_mask)\n",
        "  processed_img = cv2.bitwise_and(orig_img,orig_img, mask=inverted_green_mask)\n",
        "\n",
        "  for box in bounding_boxes:\n",
        "    x, y, w, h=map(int, box.xywh.tolist()[0])\n",
        "    x,y = get_upper_left_corner_location([int(x),y,w,h])\n",
        "\n",
        "    if box.cls==0: #cls 0 corresponds to person\n",
        "      person=processed_img[y:y+h,x:x+w]\n",
        "      persons.append(person)\n",
        "\n",
        "  return persons"
      ],
      "metadata": {
        "id": "7FFNa-IFvDmx"
      },
      "execution_count": 90,
      "outputs": []
    },
    {
      "cell_type": "code",
      "source": [
        "#Obtaining the frame with more person detections\n",
        "max=0\n",
        "max_id=0\n",
        "for i,r in enumerate(results):\n",
        "  length = len(r.boxes.cls==0)\n",
        "  if length>max:\n",
        "    max=length\n",
        "    max_id=i"
      ],
      "metadata": {
        "colab": {
          "base_uri": "https://localhost:8080/"
        },
        "id": "Sqrn1uHg2KKe",
        "outputId": "91c80131-203c-42db-abdd-591a5e10fb1f"
      },
      "execution_count": 37,
      "outputs": [
        {
          "output_type": "stream",
          "name": "stdout",
          "text": [
            "222 20\n"
          ]
        }
      ]
    },
    {
      "cell_type": "code",
      "source": [
        "persons=get_persons_images(results[max_id].orig_img, results[max_id].boxes)\n",
        "person=persons[0]\n",
        "cv2_imshow(person)"
      ],
      "metadata": {
        "colab": {
          "base_uri": "https://localhost:8080/",
          "height": 113
        },
        "id": "z9_L7rpYw5jf",
        "outputId": "fa63b11b-8c26-43de-bee1-5f4e3477203f"
      },
      "execution_count": 91,
      "outputs": [
        {
          "output_type": "display_data",
          "data": {
            "text/plain": [
              "<PIL.Image.Image image mode=RGB size=50x96>"
            ],
            "image/png": "[encoded data removed]"
          },
          "metadata": {}
        }
      ]
    },
    {
      "cell_type": "code",
      "source": [
        "persons_wo_black =[]\n",
        "for person in persons:\n",
        "  person_wo_black = person[person.sum(axis=2)!=0].reshape((-1,3)) #convert img into list and removing black pixels\n",
        "  persons_wo_black.append(person_wo_black)"
      ],
      "metadata": {
        "id": "uZIJqeXGqdf3",
        "colab": {
          "base_uri": "https://localhost:8080/"
        },
        "outputId": "91ace96a-8161-45cd-8680-e135e8a33c08"
      },
      "execution_count": 114,
      "outputs": [
        {
          "output_type": "stream",
          "name": "stdout",
          "text": [
            "(1849, 3)\n",
            "(1624, 3)\n",
            "(1069, 3)\n",
            "(1081, 3)\n",
            "(1172, 3)\n",
            "(1858, 3)\n",
            "(2103, 3)\n",
            "(2572, 3)\n",
            "(1513, 3)\n",
            "(1872, 3)\n",
            "(2846, 3)\n",
            "(1531, 3)\n",
            "(2293, 3)\n",
            "(3278, 3)\n",
            "(532, 3)\n",
            "(128, 3)\n",
            "(1094, 3)\n",
            "(741, 3)\n",
            "(1141, 3)\n"
          ]
        }
      ]
    },
    {
      "cell_type": "code",
      "source": [
        "mean_colors = []\n",
        "for person in persons_wo_black:\n",
        "    mean_color = np.mean(person, axis=0)\n",
        "    mean_colors.append(mean_color)"
      ],
      "metadata": {
        "id": "tJ4ANPz0xnr3"
      },
      "execution_count": 122,
      "outputs": []
    },
    {
      "cell_type": "code",
      "source": [
        "def get_dominant_colors(pixels, k=3):\n",
        "    # Apply KMeans clustering\n",
        "    kmeans = KMeans(n_clusters=k)\n",
        "    kmeans.fit(pixels)\n",
        "\n",
        "    # Retrieve the dominant colors\n",
        "    colors = kmeans.cluster_centers_\n",
        "\n",
        "    # Convert the pixel values to integer\n",
        "    return colors.astype(int)\n",
        "\n",
        "def display_dominant_colors(dominant_colors):\n",
        "    # Create a blank white image\n",
        "    bar = np.zeros((50, 300, 3), dtype=np.uint8)\n",
        "    startX = 0\n",
        "\n",
        "    # For each dominant color, draw a rectangle on the blank image\n",
        "    for color in dominant_colors:\n",
        "        endX = startX + (300 // len(dominant_colors))\n",
        "        cv2.rectangle(bar, (int(startX), 0), (int(endX), 50), color.astype(int).tolist(), -1)\n",
        "        startX = endX\n",
        "\n",
        "    # Display the image\n",
        "    cv2_imshow(bar)\n",
        "    cv2.waitKey(0)\n",
        "    cv2.destroyAllWindows()\n"
      ],
      "metadata": {
        "id": "F5Rl5HlxquUG"
      },
      "execution_count": 103,
      "outputs": []
    },
    {
      "cell_type": "markdown",
      "source": [
        "Dominant colors for all the person pixels"
      ],
      "metadata": {
        "id": "I-00otPTO_Tj"
      }
    },
    {
      "cell_type": "code",
      "source": [
        "num_colors = 4\n",
        "dominant_colors = get_dominant_colors(pixels=np.concatenate(persons_wo_black), k=num_colors)\n",
        "\n",
        "display_dominant_colors(dominant_colors)"
      ],
      "metadata": {
        "colab": {
          "base_uri": "https://localhost:8080/",
          "height": 122
        },
        "id": "Zr4JU9IrqxDf",
        "outputId": "2c8fe568-e3f4-4246-8641-9b9e3e18b910"
      },
      "execution_count": 129,
      "outputs": [
        {
          "output_type": "stream",
          "name": "stderr",
          "text": [
            "/usr/local/lib/python3.10/dist-packages/sklearn/cluster/_kmeans.py:870: FutureWarning: The default value of `n_init` will change from 10 to 'auto' in 1.4. Set the value of `n_init` explicitly to suppress the warning\n",
            "  warnings.warn(\n"
          ]
        },
        {
          "output_type": "display_data",
          "data": {
            "text/plain": [
              "<PIL.Image.Image image mode=RGB size=300x50>"
            ],
            "image/png": "[encoded data removed]"
          },
          "metadata": {}
        }
      ]
    },
    {
      "cell_type": "markdown",
      "source": [
        "Dominant colors for the avg of colors of each person bounding boxes"
      ],
      "metadata": {
        "id": "piCIssbZPGrS"
      }
    },
    {
      "cell_type": "code",
      "source": [
        "num_colors = 4\n",
        "dominant_colors = get_dominant_colors(pixels=mean_colors, k=num_colors)\n",
        "\n",
        "display_dominant_colors(dominant_colors)"
      ],
      "metadata": {
        "colab": {
          "base_uri": "https://localhost:8080/",
          "height": 122
        },
        "id": "2kDuNfi1PRmh",
        "outputId": "67fcac60-8f15-4c8d-d1b2-c70528e1e8e8"
      },
      "execution_count": 130,
      "outputs": [
        {
          "output_type": "stream",
          "name": "stderr",
          "text": [
            "/usr/local/lib/python3.10/dist-packages/sklearn/cluster/_kmeans.py:870: FutureWarning: The default value of `n_init` will change from 10 to 'auto' in 1.4. Set the value of `n_init` explicitly to suppress the warning\n",
            "  warnings.warn(\n"
          ]
        },
        {
          "output_type": "display_data",
          "data": {
            "text/plain": [
              "<PIL.Image.Image image mode=RGB size=300x50>"
            ],
            "image/png": "[encoded data removed]"
          },
          "metadata": {}
        }
      ]
    }
  ]
}
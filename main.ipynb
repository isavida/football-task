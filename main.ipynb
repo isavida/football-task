{
  "nbformat": 4,
  "nbformat_minor": 0,
  "metadata": {
    "colab": {
      "provenance": [],
      "authorship_tag": "ABX9TyPKZk76QAl/VPF1is7riSY0",
      "include_colab_link": true
    },
    "kernelspec": {
      "name": "python3",
      "display_name": "Python 3"
    },
    "language_info": {
      "name": "python"
    }
  },
  "cells": [
    {
      "cell_type": "markdown",
      "metadata": {
        "id": "view-in-github",
        "colab_type": "text"
      },
      "source": [
        "<a href=\"https://colab.research.google.com/github/isavida/football-task/blob/test-yolo-tracking/main.ipynb\" target=\"_parent\"><img src=\"https://colab.research.google.com/assets/colab-badge.svg\" alt=\"Open In Colab\"/></a>"
      ]
    },
    {
      "cell_type": "code",
      "source": [
        "!pip install ultralytics -q"
      ],
      "metadata": {
        "id": "keemGl--AKn3"
      },
      "execution_count": null,
      "outputs": []
    },
    {
      "cell_type": "code",
      "source": [
        "import cv2\n",
        "import os\n",
        "\n",
        "from ultralytics import YOLO"
      ],
      "metadata": {
        "id": "bVbutFMSAMle"
      },
      "execution_count": null,
      "outputs": []
    },
    {
      "cell_type": "markdown",
      "source": [
        "#Setup"
      ],
      "metadata": {
        "id": "dIh51UQTLLUt"
      }
    },
    {
      "cell_type": "code",
      "source": [
        "def git_setup(token):\n",
        "  os.system(f\"git config --global user.email 'isabel.vidaurre@hotmail.com'\")\n",
        "  os.system(f\"git config --global user.name 'isavida'\")\n",
        "  os.system(f\"git clone https://{token}@github.com/isavida/football-task.git\")\n",
        "  os.chdir(\"football-task\")"
      ],
      "metadata": {
        "colab": {
          "base_uri": "https://localhost:8080/"
        },
        "id": "986DSJyLhX2o",
        "outputId": "88a721de-ab11-4083-d43f-892002bd4bfb"
      },
      "execution_count": 1,
      "outputs": [
        {
          "output_type": "stream",
          "name": "stdout",
          "text": [
            "fatal: not a git repository (or any of the parent directories): .git\n"
          ]
        }
      ]
    },
    {
      "cell_type": "code",
      "source": [
        "git_setup('123123')"
      ],
      "metadata": {
        "id": "RXhyzdLKnHdg"
      },
      "execution_count": 2,
      "outputs": []
    },
    {
      "cell_type": "markdown",
      "source": [
        "# Introduction\n",
        "The task consists of taking as input a video footage and output:\n",
        "\n",
        "\n",
        "*   A JSONL file that contains a row for each 5th frame with the number of players from home-team and away-team, numbers of referees and position of the ball.\n",
        "*   A video with the team players with the bounding boxes of detections\n",
        "classified according to their team and the annotation of the ball when detected\n",
        "\n",
        "\n",
        "It is decided to do the player detection task first, as the data for the jsonl file can be obtained from these detections.\n",
        "\n"
      ],
      "metadata": {
        "id": "fyv_IupWLbBQ"
      }
    },
    {
      "cell_type": "code",
      "source": [
        "def inference_video(model, filename):\n",
        "    results = model.track(source=f\"data/{filename}.mp4\", save = True, name=f\"{filename}_result\", conf=0.1)"
      ],
      "metadata": {
        "id": "MJcdW_crAotO"
      },
      "execution_count": null,
      "outputs": []
    },
    {
      "cell_type": "code",
      "source": [
        "model = YOLO('yolov8n.pt')\n",
        "inference_video(model, \"clip_1\")"
      ],
      "metadata": {
        "id": "lPfaE9q9AsSf"
      },
      "execution_count": null,
      "outputs": []
    }
  ]
}
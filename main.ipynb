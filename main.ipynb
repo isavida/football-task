{
  "nbformat": 4,
  "nbformat_minor": 0,
  "metadata": {
    "colab": {
      "provenance": [],
      "authorship_tag": "ABX9TyPFoisWZ6F+Wrb0Pt8/q8Vl",
      "include_colab_link": true
    },
    "kernelspec": {
      "name": "python3",
      "display_name": "Python 3"
    },
    "language_info": {
      "name": "python"
    }
  },
  "cells": [
    {
      "cell_type": "markdown",
      "metadata": {
        "id": "view-in-github",
        "colab_type": "text"
      },
      "source": [
        "<a href=\"https://colab.research.google.com/github/isavida/football-task/blob/test-yolo-tracking/main.ipynb\" target=\"_parent\"><img src=\"https://colab.research.google.com/assets/colab-badge.svg\" alt=\"Open In Colab\"/></a>"
      ]
    },
    {
      "cell_type": "markdown",
      "source": [
        "# GIT configuration"
      ],
      "metadata": {
        "id": "dIh51UQTLLUt"
      }
    },
    {
      "cell_type": "code",
      "source": [
        "!git checkout main"
      ],
      "metadata": {
        "colab": {
          "base_uri": "https://localhost:8080/"
        },
        "id": "986DSJyLhX2o",
        "outputId": "e460c905-6142-4392-b4be-7fc9ccfec7af"
      },
      "execution_count": null,
      "outputs": [
        {
          "output_type": "stream",
          "name": "stdout",
          "text": [
            "fatal: not a git repository (or any of the parent directories): .git\n"
          ]
        }
      ]
    },
    {
      "cell_type": "markdown",
      "source": [
        "Clone"
      ],
      "metadata": {
        "id": "04Q_6u6kmn6g"
      }
    },
    {
      "cell_type": "code",
      "source": [
        "!git config --global user.email \"isabel.vidaurre@hotmail.com\"\n",
        "!git config --global user.name \"isavida\""
      ],
      "metadata": {
        "id": "RXhyzdLKnHdg"
      },
      "execution_count": 2,
      "outputs": []
    },
    {
      "cell_type": "code",
      "source": [
        "!git clone https://@github.com/isavida/football-task.git"
      ],
      "metadata": {
        "colab": {
          "base_uri": "https://localhost:8080/"
        },
        "id": "KjjLe-4VmubA",
        "outputId": "81d56260-45ca-4d0b-caec-fc61c8f1b419"
      },
      "execution_count": 3,
      "outputs": [
        {
          "output_type": "stream",
          "name": "stdout",
          "text": [
            "Cloning into 'football-task'...\n",
            "remote: Enumerating objects: 6, done.\u001b[K\n",
            "remote: Counting objects: 100% (6/6), done.\u001b[K\n",
            "remote: Compressing objects: 100% (4/4), done.\u001b[K\n",
            "remote: Total 6 (delta 0), reused 0 (delta 0), pack-reused 0\u001b[K\n",
            "Receiving objects: 100% (6/6), done.\n"
          ]
        }
      ]
    },
    {
      "cell_type": "markdown",
      "source": [
        "Commit"
      ],
      "metadata": {
        "id": "9VuWgM7ZmlX4"
      }
    },
    {
      "cell_type": "code",
      "source": [
        "%cd football-task"
      ],
      "metadata": {
        "colab": {
          "base_uri": "https://localhost:8080/"
        },
        "id": "infunGL1mkGJ",
        "outputId": "360a3fc7-c46c-446e-ddef-ccb1856b5a06"
      },
      "execution_count": 4,
      "outputs": [
        {
          "output_type": "stream",
          "name": "stdout",
          "text": [
            "/content/football-task\n"
          ]
        }
      ]
    },
    {
      "cell_type": "code",
      "source": [
        "!git status"
      ],
      "metadata": {
        "colab": {
          "base_uri": "https://localhost:8080/"
        },
        "id": "eoYeBuCVm6cI",
        "outputId": "18dbceb9-f400-4ee4-8ceb-df9e810c30ae"
      },
      "execution_count": 7,
      "outputs": [
        {
          "output_type": "stream",
          "name": "stdout",
          "text": [
            "On branch main\n",
            "Your branch is up to date with 'origin/main'.\n",
            "\n",
            "Changes to be committed:\n",
            "  (use \"git restore --staged <file>...\" to unstage)\n",
            "\t\u001b[32mnew file:   data/clip_1.mp4\u001b[m\n",
            "\t\u001b[32mnew file:   data/clip_2.mp4\u001b[m\n",
            "\t\u001b[32mnew file:   data/clip_3.mp4\u001b[m\n",
            "\n"
          ]
        }
      ]
    },
    {
      "cell_type": "code",
      "source": [
        "!git add data/"
      ],
      "metadata": {
        "id": "FxK8tHgom2yv"
      },
      "execution_count": 5,
      "outputs": []
    },
    {
      "cell_type": "code",
      "source": [
        "!git commit -m \"Add input data\""
      ],
      "metadata": {
        "colab": {
          "base_uri": "https://localhost:8080/"
        },
        "id": "OiEilpMCnC4o",
        "outputId": "0c20855b-9ac2-4950-a08e-0c6e42ad86ba"
      },
      "execution_count": 6,
      "outputs": [
        {
          "output_type": "stream",
          "name": "stdout",
          "text": [
            "[main 1289579] Add input data\n",
            " 3 files changed, 0 insertions(+), 0 deletions(-)\n",
            " create mode 100644 data/clip_1.mp4\n",
            " create mode 100644 data/clip_2.mp4\n",
            " create mode 100644 data/clip_3.mp4\n"
          ]
        }
      ]
    },
    {
      "cell_type": "code",
      "source": [
        "!git push origin main"
      ],
      "metadata": {
        "colab": {
          "base_uri": "https://localhost:8080/"
        },
        "id": "luBN67ZonRj4",
        "outputId": "03884b80-8304-486d-f803-8a528a047643"
      },
      "execution_count": 7,
      "outputs": [
        {
          "output_type": "stream",
          "name": "stdout",
          "text": [
            "Enumerating objects: 7, done.\n",
            "Counting objects:  14% (1/7)\rCounting objects:  28% (2/7)\rCounting objects:  42% (3/7)\rCounting objects:  57% (4/7)\rCounting objects:  71% (5/7)\rCounting objects:  85% (6/7)\rCounting objects: 100% (7/7)\rCounting objects: 100% (7/7), done.\n",
            "Delta compression using up to 2 threads\n",
            "Compressing objects: 100% (6/6), done.\n",
            "Writing objects: 100% (6/6), 19.91 MiB | 14.99 MiB/s, done.\n",
            "Total 6 (delta 0), reused 0 (delta 0), pack-reused 0\n",
            "To https://github.com/isavida/football-task.git\n",
            "   7a0cc12..1289579  main -> main\n"
          ]
        }
      ]
    },
    {
      "cell_type": "markdown",
      "source": [
        "# Introduction\n",
        "The task consists of taking as input a video footage and output:\n",
        "\n",
        "\n",
        "*   A JSONL file that contains a row for each 5th frame with the number of players from home-team and away-team, numbers of referees and position of the ball.\n",
        "*   A video with the team players with the bounding boxes of detections\n",
        "classified according to their team and the annotation of the ball when detected\n",
        "\n",
        "\n",
        "It is decided to do the player detection task first, as the data for the jsonl file can be obtained from these detections.\n",
        "\n"
      ],
      "metadata": {
        "id": "fyv_IupWLbBQ"
      }
    },
    {
      "cell_type": "code",
      "source": [
        "!pip install ultralytics"
      ],
      "metadata": {
        "id": "l1RhN6Gu4GPE"
      },
      "execution_count": null,
      "outputs": []
    },
    {
      "cell_type": "code",
      "source": [
        "import cv2\n",
        "from ultralytics import YOLO"
      ],
      "metadata": {
        "id": "8-p5DrmB4EST"
      },
      "execution_count": null,
      "outputs": []
    },
    {
      "cell_type": "code",
      "source": [
        "#load a model and perform tracking\n",
        "model = YOLO('yolov8s.pt')\n",
        "\n",
        "results = model.track(source=\"football_data/clip_1.mp4\", save = True, name=\"yolov8s\")"
      ],
      "metadata": {
        "id": "QNY45XkP4DMU"
      },
      "execution_count": null,
      "outputs": []
    }
  ]
}